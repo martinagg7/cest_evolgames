{
 "cells": [
  {
   "cell_type": "markdown",
   "id": "ddb13db0",
   "metadata": {},
   "source": [
    "# Índice\n",
    "\n",
    "- [1. Teoría](#1-teoría)\n",
    "  - [1.1 Definición del jugador](#11-definición-del-jugador)\n",
    "  - [1.2 Evaluación del entorno](#12-evaluación-del-entorno)\n",
    "  - [1.3 Adaptación de la persistencia](#13-adaptación-de-la-persistencia)\n",
    "  - [1.4 Condición de cambio de estrategia](#14-condición-de-cambio-de-estrategia)\n",
    "  - [1.5 Dinámica de imitación](#15-dinámica-de-imitación)\n",
    "  - [1.6 Resumen de variables](#16-resumen-de-variables)"
   ]
  },
  {
   "cell_type": "markdown",
   "id": "13e4536a",
   "metadata": {},
   "source": [
    "# 1. Teoría\n",
    "\n",
    "## 1.1 Definición del jugador\n",
    "\n",
    "Cada jugador $i$ está caracterizado por las siguientes variables:\n",
    "\n",
    "- $s_i(t) \\in \\{0, 1\\}$: estrategia en el instante $t$  \n",
    "  - $s_i(t) = 1$: el jugador coopera  \n",
    "  - $s_i(t) = 0$: el jugador defecta\n",
    "\n",
    "- $\\tau_i(t) \\in [\\tau_D, \\tau_U]$: nivel de persistencia. Representa el número de pasos mínimos que el jugador desea mantener su estrategia antes de considerar un cambio.\n",
    "\n",
    "- $\\Theta_i(t) \\in \\mathbb{N}_0$: temporizador que cuenta cuántos pasos consecutivos ha mantenido su estrategia actual sin cambiarla.\n",
    "\n",
    "## 1.2 Evaluación del entorno\n",
    "\n",
    "### a) Entorno local\n",
    "\n",
    "$$\n",
    "\\varphi_i(t) = \\frac{1}{k_i} \\sum_{j \\in \\mathcal{N}_i} s_j(t)\n",
    "$$\n",
    "\n",
    "- $\\mathcal{N}_i$: conjunto de vecinos de $i$  \n",
    "- $k_i = |\\mathcal{N}_i|$: número de vecinos  \n",
    "- $s_j(t)$: estrategia del vecino $j$\n",
    "\n",
    "### b) Entorno global\n",
    "\n",
    "$$\n",
    "\\phi(t) = \\frac{1}{N} \\sum_{j=1}^{N} s_j(t)\n",
    "$$\n",
    "\n",
    "### c) Diferencia entre entornos\n",
    "\n",
    "$$\n",
    "\\Delta E_i(t) = \\varphi_i(t) - \\phi(t)\n",
    "$$\n",
    "\n",
    "- Si $\\Delta E_i(t) > 0$: el entorno local de $i$ es mejor que el global  \n",
    "- Si $\\Delta E_i(t) < 0$: el entorno local es peor\n",
    "\n",
    "## 1.3 Adaptación de la persistencia\n",
    "\n",
    "Si $\\Delta E_i(t) > 0$, se incrementa $\\tau_i(t)$ con probabilidad:\n",
    "\n",
    "$$\n",
    "P_{\\text{aumento}} = \\frac{1}{1 + \\exp\\left(-\\frac{\\Delta E_i(t)}{K_1}\\right)}\n",
    "$$\n",
    "\n",
    "Si $\\Delta E_i(t) < 0$, se reduce con probabilidad complementaria:\n",
    "\n",
    "$$\n",
    "P_{\\text{disminución}} = 1 - P_{\\text{aumento}}\n",
    "$$\n",
    "\n",
    "Actualización de $\\tau_i(t)$:\n",
    "\n",
    "- Si se aumenta:\n",
    "\n",
    "$$\n",
    "\\tau_i(t) \\leftarrow \\min\\left(\\tau_i(t) + \\Delta \\tau, \\tau_U\\right)\n",
    "$$\n",
    "\n",
    "- Si se disminuye:\n",
    "\n",
    "$$\n",
    "\\tau_i(t) \\leftarrow \\max\\left(\\tau_i(t) - \\Delta \\tau, \\tau_D\\right)\n",
    "$$\n",
    "\n",
    "## 1.4 Condición de cambio de estrategia\n",
    "\n",
    "El jugador solo puede considerar cambiar de estrategia si:\n",
    "\n",
    "$$\n",
    "\\Theta_i(t) \\geq \\tau_i(t)\n",
    "$$\n",
    "\n",
    "- Si no se cumple:\n",
    "\n",
    "$$\n",
    "\\Theta_i(t+1) = \\Theta_i(t) + 1\n",
    "$$\n",
    "\n",
    "- Si se cumple: el jugador pasa a evaluar la estrategia de un vecino\n",
    "\n",
    "## 1.5 Dinámica de imitación\n",
    "\n",
    "1. Se selecciona un vecino aleatorio $j \\in \\mathcal{N}_i$\n",
    "\n",
    "2. Se calcula el payoff acumulado de $i$ y $j$:\n",
    "\n",
    "$$\n",
    "\\pi_i(t) = \\sum_{k \\in \\mathcal{N}_i} u(s_i(t), s_k(t)), \\quad\n",
    "\\pi_j(t) = \\sum_{k \\in \\mathcal{N}_j} u(s_j(t), s_k(t))\n",
    "$$\n",
    "\n",
    "Donde $u(s_a, s_b)$ es el resultado del juego del prisionero entre las estrategias $s_a$ y $s_b$.\n",
    "\n",
    "**Nota**: $\\pi_j(t)$ representa la suma de los pagos que obtiene el jugador $j$ al interactuar con sus propios vecinos en el mallado.\n",
    "\n",
    "3. El jugador $i$ imita la estrategia de $j$ con probabilidad:\n",
    "\n",
    "$$\n",
    "P(s_i \\leftarrow s_j) = \\frac{1}{1 + \\exp\\left( -\\frac{\\pi_j(t) - \\pi_i(t)}{K_2} \\right)}\n",
    "$$\n",
    "\n",
    "## 1.6 Resumen de variables\n",
    "\n",
    "| Símbolo | Significado |\n",
    "|---------|-------------|\n",
    "| $s_i(t)$ | Estrategia del jugador $i$ |\n",
    "| $\\tau_i(t)$ | Nivel de persistencia |\n",
    "| $\\Theta_i(t)$ | Temporizador |\n",
    "| $\\varphi_i(t)$ | Entorno local (promedio de cooperación entre vecinos) |\n",
    "| $\\phi(t)$ | Entorno global |\n",
    "| $\\Delta E_i(t)$ | Diferencia entre entorno local y global |\n",
    "| $\\pi_i(t), \\pi_j(t)$ | Payoffs acumulados de $i$ y $j$ |\n",
    "| $K_1$ | Ruido en persistencia |\n",
    "| $K_2$ | Ruido en imitación |\n",
    "| $\\Delta \\tau$ | Incremento/decremento permitido de $\\tau_i$ |\n",
    "| $\\tau_D, \\tau_U$ | Valores mínimo y máximo de persistencia |"
   ]
  },
  {
   "cell_type": "markdown",
   "id": "b9e68bc3",
   "metadata": {},
   "source": [
    "# 2.Implementación Computacional"
   ]
  },
  {
   "cell_type": "markdown",
   "id": "5c35ec56",
   "metadata": {},
   "source": [
    "### SetUp"
   ]
  },
  {
   "cell_type": "code",
   "execution_count": 2,
   "id": "49a22c19",
   "metadata": {},
   "outputs": [],
   "source": [
    "#Librerias\n",
    "import numpy as np\n",
    "from joblib import Parallel, delayed\n",
    "import numpy as np\n",
    "from tqdm import tqdm\n",
    "import matplotlib.pyplot as plt"
   ]
  },
  {
   "cell_type": "markdown",
   "id": "63cc04dd",
   "metadata": {},
   "source": [
    "### 2.1 — Inicialización de la red y variables del modelo"
   ]
  },
  {
   "cell_type": "markdown",
   "id": "4aaa60cb",
   "metadata": {},
   "source": [
    "\n",
    "Creamos una red cuadrada de tamaño $ L \\times L = 100 \\times 100 $ donde cada celda representa un jugador. Según el artículo, cada jugador comienza con los siguientes valores:\n",
    "\n",
    "- **Estrategia inicial $ s_i(0) $**: asignada aleatoriamente, siendo 1 (cooperador) o 0 (defector), con una probabilidad del 50 % cada una.\n",
    "- **Persistencia $tau_i(0)$**: todos los jugadores comienzan con nivel de persistencia 0.\n",
    "- **Cronómetro $ell_i(0)$**: todos inician con su temporizador en 0, es decir, aún no han mantenido ninguna estrategia.\n",
    "\n",
    "Estas condiciones coinciden exactamente con lo descrito en el artículo:\n",
    "\n",
    "> “Initially, the two strategies of C and D are randomly distributed among the players with equal probability. For each player, \\( \\tau_i(0) \\) and \\( \\ell_i \\) are initialized to be 0.”\n"
   ]
  },
  {
   "cell_type": "code",
   "execution_count": 3,
   "id": "9a80a918",
   "metadata": {},
   "outputs": [],
   "source": [
    "# Tamaño de la red \n",
    "L = 100                      \n",
    "N = L * L                    \n",
    "np.random.seed(0)            \n",
    "\n",
    "# Matriz estrategia inicial (random)\n",
    "s = np.random.choice([0, 1], size=(L, L))    # s_i(0)\n",
    "\n",
    "# Matriz persistencia de cada jugador (todos a 0)\n",
    "tau = np.zeros((L, L), dtype=int)           # τ_i(0)\n",
    "\n",
    "# Matriz cronómetro de cada jugador (mantener estrategia)\n",
    "ell = np.zeros((L, L), dtype=int)           # ℓ_i(0)"
   ]
  },
  {
   "cell_type": "markdown",
   "id": "6461f762",
   "metadata": {},
   "source": [
    "### 2.2 — Definición de vecinos con condiciones periódicas"
   ]
  },
  {
   "cell_type": "markdown",
   "id": "05cf8b09",
   "metadata": {},
   "source": [
    "El operador a % L devuelve el resto de dividir a entre L.  \n",
    "\n",
    "- 5 % 3 = 2\n",
    "- 9 % 4 = 1\n",
    "\n",
    "**¿Para qué usamos `%` en la red?**\n",
    "\n",
    "En una red \\( L \\times L \\), cada jugador en la celda $i, j$ tiene 4 vecinos inmediatos:\n",
    "\n",
    "- Arriba: $ (i-1, j) $\n",
    "- Abajo: $(i+1, j) $\n",
    "- Izquierda: $(i, j-1) $\n",
    "- Derecha: $(i, j+1)$\n",
    "\n",
    "Pero si el jugador está en un borde, alguno de esos índices puede quedar fuera.  \n",
    "Usamos `% L` para aplicar **condiciones de frontera periódicas**: si sale por un borde, vuelve por el otro.\n",
    "\n",
    "*Ejemplo:*\n",
    "\n",
    "- Si $ i = 0 $, entonces $(i - 1) \\% L = (-1) \\% 100 = 99 $\n",
    "\n",
    "Así, el jugador en la fila 0 tiene como vecino superior a la fila 99, cerrando la red como un toro."
   ]
  },
  {
   "cell_type": "code",
   "execution_count": 4,
   "id": "019f74aa",
   "metadata": {},
   "outputs": [],
   "source": [
    "def get_neighbors(i, j, L):\n",
    "    # Devuelve las coordenadas de los 4 vecinos\n",
    "    neighbors = [\n",
    "        ((i + 1) % L, j),     # abajo\n",
    "        ((i - 1) % L, j),     # arriba\n",
    "        (i, (j + 1) % L),     # derecha\n",
    "        (i, (j - 1) % L)      # izquierda\n",
    "    ]\n",
    "    return neighbors"
   ]
  },
  {
   "cell_type": "markdown",
   "id": "58560dd3",
   "metadata": {},
   "source": [
    "### 2.3 — Cálculo del entorno Local $\\varphi_i(t)$ y Global $\\phi(t)$"
   ]
  },
  {
   "cell_type": "markdown",
   "id": "5c175fe7",
   "metadata": {},
   "source": [
    "**Entorno Local**"
   ]
  },
  {
   "cell_type": "code",
   "execution_count": 5,
   "id": "d6adfc70",
   "metadata": {},
   "outputs": [],
   "source": [
    "def phi_local(s, i, j, L):\n",
    "    neighbors = get_neighbors(i, j, L)\n",
    "    total = sum(s[x, y] for x, y in neighbors)\n",
    "    return total / 4  # porcentaje vecinos colaboradores"
   ]
  },
  {
   "cell_type": "markdown",
   "id": "f81ba3e5",
   "metadata": {},
   "source": [
    "**Entorno Global**"
   ]
  },
  {
   "cell_type": "code",
   "execution_count": 6,
   "id": "182a47bd",
   "metadata": {},
   "outputs": [],
   "source": [
    "def phi_global(s):\n",
    "    return np.mean(s)"
   ]
  },
  {
   "cell_type": "markdown",
   "id": "b302e862",
   "metadata": {},
   "source": [
    "### 2.4  Diferencia entre entornos  y adaptación de la persistencia $Tau_i(t)$"
   ]
  },
  {
   "cell_type": "markdown",
   "id": "a4eae429",
   "metadata": {},
   "source": [
    "**Actualización de la tasa de persistencia $\\tau_i(t)$**\n",
    "\n",
    "La función `update_tau` implementa la adaptación dinámica de la persistencia de cada jugador según la diferencia entre su entorno local y el global:\n",
    "\n",
    "1. **Cálculo de entornos:**\n",
    "    - $\\varphi_i(t)$: Fracción de cooperadores entre los vecinos inmediatos del jugador $(i, j)$.\n",
    "    - $\\phi(t)$: Fracción global de cooperadores en toda la red.\n",
    "\n",
    "2. **Diferencia de entornos:**\n",
    "    - $\\Delta E_i(t) = \\varphi_i(t) - \\phi(t)$\n",
    "\n",
    "3. **Probabilidad de ajuste (regla de Fermi):**\n",
    "    - Se calcula la probabilidad $P$ de aumentar la persistencia:\n",
    "      $$\n",
    "      P = \\frac{1}{1 + \\exp\\left(-\\frac{\\Delta E_i(t)}{K_1}\\right)}\n",
    "      $$\n",
    "    - $K_1$ es un parámetro de \"ruido\" que regula la sensibilidad al entorno.\n",
    "\n",
    "4. **Actualización de $\\tau_i(t)$:**\n",
    "    - Si $\\Delta E_i(t) > 0$ y un número aleatorio $r < P$, se incrementa la persistencia:  \n",
    "      $$\n",
    "      \\tau_i(t) \\leftarrow \\min(\\tau_i(t) + \\Delta\\tau, \\tau_U)\n",
    "      $$\n",
    "    - Si $\\Delta E_i(t) < 0$ y $r < 1 - P$, se reduce la persistencia:  \n",
    "      $$\n",
    "      \\tau_i(t) \\leftarrow \\max(\\tau_i(t) - \\Delta\\tau, \\tau_D)\n",
    "      $$\n",
    "    - Si $\\Delta E_i(t) = 0$, la persistencia no cambia.\n"
   ]
  },
  {
   "cell_type": "code",
   "execution_count": 7,
   "id": "057fd661",
   "metadata": {},
   "outputs": [],
   "source": [
    "def update_tau(i, j, s, tau, L, tau_U, tau_D, delta_tau, K1):\n",
    "    \"\"\"\n",
    "    i, j : Coordenadas del jugador en la red.\n",
    "    \n",
    "    s : Matriz de estrategias.\n",
    "    \n",
    "    tau :Matriz actual de persistencia τ_i(t) de cada jugador.\n",
    "\n",
    "    tau_U :Valor máximo permitido para la persistencia.\n",
    "    \n",
    "    tau_D : Valor mínimo permitido para la persistencia.\n",
    "    \"\"\"\n",
    "\n",
    "    # % cooperadores entono Local y Global\n",
    "    phi_i = phi_local(s, i, j, L)\n",
    "    phi_global_val = phi_global(s)\n",
    "\n",
    "    # diferencia entre entornos\n",
    "    delta_E = phi_i - phi_global_val\n",
    "\n",
    "    # Probabilidad Fermi:aumentar persistencia\n",
    "    P = 1 / (1 + np.exp(-delta_E / K1))\n",
    "    \n",
    "    r = np.random.rand()  # número aleatorio \n",
    "\n",
    "    # Ajuste\n",
    "    if delta_E > 0 and r < P: # incrementamos en una unidad\n",
    "        tau[i, j] = min(tau[i, j] + delta_tau, tau_U)\n",
    "    elif delta_E < 0 and r < (1 - P):\n",
    "        tau[i, j] = max(tau[i, j] - delta_tau, tau_D) # disminuimos\n",
    "    # si ΔE = 0  no se cambia τ\n",
    "\n",
    "    return tau[i, j]  # para ver el resultado si queremos"
   ]
  },
  {
   "cell_type": "markdown",
   "id": "44c01464",
   "metadata": {},
   "source": [
    "### 2.5 - Payoff y Estrategia"
   ]
  },
  {
   "cell_type": "markdown",
   "id": "fb6c5cd1",
   "metadata": {},
   "source": [
    "**Función Payoff**"
   ]
  },
  {
   "cell_type": "code",
   "execution_count": 8,
   "id": "ae50da6b",
   "metadata": {},
   "outputs": [],
   "source": [
    "def payoff(si, sj, b):\n",
    "    if si == 1 and sj == 1:\n",
    "        return 1      # R: cooperación mutua\n",
    "    elif si == 1 and sj == 0:\n",
    "        return 0      # S: el jugador coopera pero es traicionado\n",
    "    elif si == 0 and sj == 1:\n",
    "        return b      # T: el jugador traiciona a un cooperador\n",
    "    else:\n",
    "        return 0      # P: ambos traicionan"
   ]
  },
  {
   "cell_type": "markdown",
   "id": "ded6e6fb",
   "metadata": {},
   "source": [
    "**Payoff Nodo**"
   ]
  },
  {
   "cell_type": "code",
   "execution_count": 9,
   "id": "d5052d46",
   "metadata": {},
   "outputs": [],
   "source": [
    "def total_payoff(i, j, s, L, b):\n",
    "    pi = 0\n",
    "    si = s[i, j]\n",
    "    neighbors = get_neighbors(i, j, L)\n",
    "\n",
    "    for x, y in neighbors:\n",
    "        sj = s[x, y]\n",
    "        pi += payoff(si, sj, b)\n",
    "\n",
    "    return pi #payoff total de los 4 vecinos jugador"
   ]
  },
  {
   "cell_type": "markdown",
   "id": "7e9af849",
   "metadata": {},
   "source": [
    "**Función Estrategia**\n",
    "\n",
    "La función `update_strategy` implementa la dinámica de cambio de estrategia para un jugador en la red, siguiendo el modelo descrito en la teoría. A continuación se detalla su funcionamiento:\n",
    "\n",
    "1. **Restricción por persistencia**  \n",
    "    Si el cronómetro $\\ell_{i,j}$ es menor que la persistencia $\\tau_{i,j}$, el jugador no puede cambiar de estrategia.  \n",
    "    - Se incrementa $\\ell_{i,j}$ en 1.\n",
    "    - La función termina para este jugador.\n",
    "\n",
    "2. **Evaluación de cambio de estrategia**  \n",
    "    Si $\\ell_{i,j} \\geq \\tau_{i,j}$:\n",
    "    - Se selecciona un vecino aleatorio.\n",
    "    - Se calculan los payoffs acumulados del jugador ($\\pi_i$) y del vecino ($\\pi_j$).\n",
    "    - Se calcula la probabilidad de imitación usando la regla de Fermi:\n",
    "      $$\n",
    "      P = \\frac{1}{1 + \\exp\\left(-\\frac{\\pi_j - \\pi_i}{K_2}\\right)}\n",
    "      $$\n",
    "    - Se genera un número aleatorio $r$ en $[0, 1]$.\n",
    "      - Si $r < P$, el jugador imita la estrategia del vecino ($s_{i,j} = s_{x,y}$) y reinicia su cronómetro ($\\ell_{i,j} = 0$).\n",
    "      - Si no, simplemente incrementa su cronómetro ($\\ell_{i,j} += 1$).\n",
    "\n"
   ]
  },
  {
   "cell_type": "code",
   "execution_count": 10,
   "id": "12191766",
   "metadata": {},
   "outputs": [],
   "source": [
    "def update_strategy(i, j, s, ell, tau, L, b, K2):\n",
    "\n",
    "    # cronometro < tau -> no se puede cambiar estrategia\n",
    "    if ell[i, j] < tau[i, j]:\n",
    "        ell[i, j] += 1\n",
    "        return\n",
    "    #  cronometro >= tau -> cambio estrategia\n",
    "    neighbors = get_neighbors(i, j, L)\n",
    "    x, y = neighbors[np.random.randint(len(neighbors))]\n",
    "\n",
    "    si = s[i, j]\n",
    "    sj = s[x, y]\n",
    "    # calculo payoff vecinos\n",
    "    pi = total_payoff(i, j, s, L, b)\n",
    "    pj = total_payoff(x, y, s, L, b)\n",
    "\n",
    "    P = 1 / (1 + np.exp(-(pj - pi) / K2))\n",
    "    r = np.random.rand()\n",
    "    # actualizar estrategia\n",
    "    if r < P:\n",
    "        s[i, j] = sj\n",
    "        ell[i, j] = 0\n",
    "    else:\n",
    "        ell[i, j] += 1"
   ]
  },
  {
   "cell_type": "markdown",
   "id": "a9f59f34",
   "metadata": {},
   "source": [
    "# 3.Simulaciones"
   ]
  },
  {
   "cell_type": "markdown",
   "id": "1ebd07a5",
   "metadata": {},
   "source": [
    "Esta función simula el modelo para un valor de $b$ dado, repitiendo la simulación 100 veces (réplicas) para obtener un promedio confiable de la fracción final de cooperadores.\n",
    "\n",
    "- Inicializa la red y variables para cada réplica.\n",
    "- En cada paso de tiempo, actualiza la persistencia y la estrategia de todos los jugadores.\n",
    "- Durante los últimos `num_avg_steps`, guarda la fracción de cooperadores.\n",
    "- Al final, promedia la fracción de cooperadores de todas las réplicas y la retorna.\n",
    "\n",
    "Sirve para calcular cómo varía la cooperación según el parámetro $b$."
   ]
  },
  {
   "cell_type": "code",
   "execution_count": 18,
   "id": "7cc8d608",
   "metadata": {},
   "outputs": [],
   "source": [
    "def simulate_replicas_for_b(b, L, num_steps, num_avg_steps, tau_U, tau_D, delta_tau, K1, K2):\n",
    "    fC_b = []\n",
    "\n",
    "    for _ in range(20):  \n",
    "        s = np.random.choice([0, 1], size=(L, L))\n",
    "        tau = np.zeros((L, L), dtype=int)\n",
    "        ell = np.zeros((L, L), dtype=int)\n",
    "\n",
    "        fC_trayectoria = []\n",
    "\n",
    "        for step in range(num_steps):\n",
    "            for i in range(L):\n",
    "                for j in range(L):\n",
    "                    update_tau(i, j, s, tau, L, tau_U, tau_D, delta_tau, K1)\n",
    "            for i in range(L):\n",
    "                for j in range(L):\n",
    "                    update_strategy(i, j, s, ell, tau, L, b, K2)\n",
    "\n",
    "            if step >= (num_steps - num_avg_steps):\n",
    "                fC_trayectoria.append(np.mean(s))\n",
    "\n",
    "        fC_b.append(np.mean(fC_trayectoria))\n",
    "\n",
    "    return np.mean(fC_b)\n"
   ]
  },
  {
   "cell_type": "markdown",
   "id": "e9ce29c1",
   "metadata": {},
   "source": [
    "## 3.1 Simulación Preliminar"
   ]
  },
  {
   "cell_type": "markdown",
   "id": "4fb6f93a",
   "metadata": {},
   "source": [
    "Para imitar las curvas del artículo sin incurrir en tiempos de cómputo excesivos, hemos optado por una configuración preliminar con un número limitado de pasos y réplicas.\n",
    "\n",
    "En cada combinación $(b, \\tau_U)\\$, se realizan:\n",
    "\n",
    "$\n",
    "20 \\times 500 \\times 10,\\!000 = 100,\\!000,\\!000 \\text{ operaciones}\n",
    "$\n",
    "\n",
    "Con 30 valores de \\(b\\), se obtiene:\n",
    "\n",
    "$\n",
    "30 \\times 100,\\!000,\\!000 = 3,\\!000,\\!000,\\!000 \\text{ operaciones por curva}\n",
    "$\n",
    "\n",
    "Y al simular 6 curvas diferentes:\n",
    "\n",
    "$\n",
    "6 \\times 3,\\!000,\\!000,\\!000 = \\boxed{18,\\!000,\\!000,\\!000 \\text{ operaciones en total}}\n",
    "$\n",
    "\n",
    "Esta configuración permite observar la forma general de las curvas $f_C(b)$ y su transición sin agotar los recursos computacionales."
   ]
  },
  {
   "cell_type": "code",
   "execution_count": 32,
   "id": "3b7e71cb",
   "metadata": {},
   "outputs": [],
   "source": [
    "L = 100\n",
    "tau_D = 0\n",
    "delta_tau = 1\n",
    "K1 = 0.1\n",
    "K2 = 0.1\n",
    "num_steps = 500\n",
    "num_avg_steps = 300\n",
    "num_replicas = 20\n",
    "b_values = np.linspace(1.0, 1.6, 30)\n",
    "\n",
    "tau_U_values = [0, 1, 5, 10, 20, 100]\n",
    "colors = ['red', 'green', 'blue', 'magenta', 'orange', 'purple']\n",
    "markers = ['s', 's', 'o', 'o', '^', '^']"
   ]
  },
  {
   "cell_type": "code",
   "execution_count": null,
   "id": "af0c66bc",
   "metadata": {},
   "outputs": [
    {
     "name": "stderr",
     "output_type": "stream",
     "text": [
      " Simulando todas las curvas τ_U:   0%|          | 0/6 [00:00<?, ?it/s]"
     ]
    },
    {
     "name": "stdout",
     "output_type": "stream",
     "text": [
      "\n",
      " Simulando para τU = 0...\n"
     ]
    },
    {
     "name": "stderr",
     "output_type": "stream",
     "text": [
      "\n",
      "\u001b[A\n",
      "\u001b[A\n",
      "\u001b[A\n",
      "\u001b[A\n",
      "\u001b[A\n",
      " Simulando todas las curvas τ_U:  17%|█▋        | 1/6 [3:03:19<15:16:35, 10999.11s/it]"
     ]
    },
    {
     "name": "stdout",
     "output_type": "stream",
     "text": [
      "\n",
      " Simulando para τU = 1...\n"
     ]
    },
    {
     "name": "stderr",
     "output_type": "stream",
     "text": [
      "\n",
      "\u001b[A\n",
      "\u001b[A\n",
      "\u001b[A\n",
      " Simulando todas las curvas τ_U:  33%|███▎      | 2/6 [5:49:40<11:33:22, 10400.64s/it]"
     ]
    },
    {
     "name": "stdout",
     "output_type": "stream",
     "text": [
      "\n",
      " Simulando para τU = 5...\n"
     ]
    },
    {
     "name": "stderr",
     "output_type": "stream",
     "text": [
      "\n",
      "\u001b[A\n",
      "\u001b[A\n",
      "\u001b[A\n",
      " Simulando todas las curvas τ_U:  50%|█████     | 3/6 [8:31:49<8:24:40, 10093.66s/it] "
     ]
    },
    {
     "name": "stdout",
     "output_type": "stream",
     "text": [
      "\n",
      " Simulando para τU = 10...\n"
     ]
    },
    {
     "name": "stderr",
     "output_type": "stream",
     "text": [
      "\n",
      "\u001b[A\n",
      "\u001b[A\n",
      "\u001b[A\n",
      " Simulando todas las curvas τ_U:  67%|██████▋   | 4/6 [10:40:32<5:05:15, 9157.91s/it]"
     ]
    },
    {
     "name": "stdout",
     "output_type": "stream",
     "text": [
      "\n",
      " Simulando para τU = 20...\n"
     ]
    },
    {
     "name": "stderr",
     "output_type": "stream",
     "text": [
      "\n",
      "\u001b[A\n",
      "\u001b[A\n",
      "\u001b[A\n",
      " Simulando todas las curvas τ_U:  83%|████████▎ | 5/6 [12:53:49<2:25:39, 8739.39s/it]"
     ]
    },
    {
     "name": "stdout",
     "output_type": "stream",
     "text": [
      "\n",
      " Simulando para τU = 100...\n"
     ]
    },
    {
     "name": "stderr",
     "output_type": "stream",
     "text": [
      "\n",
      "\u001b[A\n",
      "\u001b[A\n",
      "\u001b[A\n",
      " Simulando todas las curvas τ_U: 100%|██████████| 6/6 [15:12:41<00:00, 9126.93s/it]  \n"
     ]
    },
    {
     "data": {
      "image/png": "[encoded data removed]",
      "text/plain": [
       "<Figure size 1000x600 with 1 Axes>"
      ]
     },
     "metadata": {},
     "output_type": "display_data"
    }
   ],
   "source": [
    "for tau_U, color, marker in tqdm(zip(tau_U_values, colors, markers),\n",
    "                                 total=len(tau_U_values),\n",
    "                                 desc=\" Simulando todas las curvas τ_U\"):\n",
    "    \n",
    "    print(f\"\\n Simulando para τU = {tau_U}...\")\n",
    "\n",
    "    # Bucle interno sobre b con barra\n",
    "    fC_values = Parallel(n_jobs=8)(\n",
    "        delayed(simulate_replicas_for_b)(\n",
    "            b, L, num_steps, num_avg_steps, tau_U, tau_D, delta_tau, K1, K2\n",
    "        )\n",
    "        for b in tqdm(b_values, desc=f\"τU = {tau_U}\", leave=False)\n",
    "    )\n",
    "\n",
    "    # Agregar la curva a la misma figura\n",
    "    plt.plot(b_values, fC_values, label=rf\"$\\tau_U$ = {tau_U}\",\n",
    "             color=color, marker=marker, linestyle='--' if marker == 'o' else '-')\n",
    "    \n",
    "plt.figure(figsize=(10, 6))\n",
    "\n",
    "# Configuración final de la gráfica\n",
    "plt.xlabel(r'$b$', fontsize=14)\n",
    "plt.ylabel(r'$f_C$', fontsize=14)\n",
    "plt.title(\"Fracción de cooperadores para distintos niveles de $\\\\tau_U$\")\n",
    "plt.grid(True)\n",
    "plt.legend()\n",
    "plt.tight_layout()\n",
    "plt.show()"
   ]
  },
  {
   "cell_type": "markdown",
   "id": "f6384e59",
   "metadata": {},
   "source": [
    "**Interpretación Resultados**"
   ]
  },
  {
   "cell_type": "markdown",
   "id": "5201a4cb",
   "metadata": {},
   "source": [
    "El parámetro $ \\tau_D $ representa el **nivel mínimo de persistencia** de un jugador, es decir, el **tiempo mínimo que debe mantener su estrategia antes de poder cambiarla**. Esta restricción implica que un jugador no puede modificar su comportamiento hasta que su contador interno $\\ell$ iguale el valor de $ \\tau $.\n",
    "\n",
    "- Cuando $ \\tau_D $ es **bajo**, los jugadores pueden adaptarse rápidamente a los cambios del entorno. Esto los hace más propensos a responder a incentivos individuales para traicionar (por ejemplo, un valor alto de $b$), lo que provoca que la cooperación desaparezca con facilidad.\n",
    "\n",
    "- Por el contrario, cuando $ \\tau_D $ es **alto**, los jugadores están obligados a mantener su estrategia durante más tiempo, incluso si el entorno se vuelve desfavorable. Esta **espera forzada** reduce la reacción impulsiva ante tentaciones individuales y favorece la persistencia de la cooperación, incluso en situaciones donde traicionar sería más rentable a corto plazo.\n",
    "\n",
    "> En resumen, un mayor $ \\tau_D $ implica que los individuos tardan más en poder cambiar de estrategia. Esta demora disminuye las decisiones impulsivas y permite que la cooperación se sostenga, incluso bajo presión de incentivos para traicionar."
   ]
  },
  {
   "cell_type": "markdown",
   "id": "d84401b4",
   "metadata": {},
   "source": [
    "**Resultados Gráficos**\n",
    "\n",
    "Las curvas obtenidas logran capturar la **tendencia general** observada en el artículo original: a mayor $\\tau_U$, mayor estabilidad de la cooperación y desplazamiento de la caída hacia valores mayores de $b$.\n",
    "\n",
    "No obstante, se observa que las **transiciones no son tan abruptas** como en el paper. Esto se debe principalmente a las **limitaciones computacionales** impuestas en esta fase preliminar del experimento.\n",
    "\n",
    "Para mejorar la precisión y lograr una mayor fidelidad con las curvas del artículo, se plantean las siguientes mejoras:\n",
    "\n",
    "- **Aumentar el número de pasos de simulación**: el artículo utiliza 1000 pasos, mientras que nosotros usamos solo 500. Una mayor duración permite una transición más estable.\n",
    "- **Incrementar el número de réplicas por punto**: más réplicas ayudan a suavizar el ruido y a capturar mejor los cambios bruscos.\n",
    "- **Reconsiderar el muestreo de $b$** en curvas con mayor $\\tau_U$: en lugar de un espaciado uniforme, se podrían concentrar más puntos alrededor del umbral donde ocurre la caída de $f_C$, tal como se intuye en el artículo original.\n",
    "\n",
    "Estas modificaciones permitirían replicar con mayor precisión la forma característica de las curvas presentadas en el paper."
   ]
  },
  {
   "cell_type": "markdown",
   "id": "8b1c01cc",
   "metadata": {},
   "source": [
    "# 4.Propuesta Cadena Markov"
   ]
  },
  {
   "cell_type": "markdown",
   "id": "e5ad22cb",
   "metadata": {},
   "source": [
    "A continuación, vamos a proponer una **cadena de Markov** para describir la evolución del nivel de persistencia $\\tau_i(t)$ de cada jugador en el modelo. Al analizar el modelo original, nos damos cuenta de que la forma en que los jugadores mantienen o cambian su estrategia depende del entorno en cada momento. Esta observación sugiere que podríamos describir el nivel de persistencia utilizando una cadena de Markov, ya que este tipo de modelos se basa precisamente en que el valor que toma una variable en el futuro inmediato depende únicamente del estado actual, y no de lo ocurrido en el pasado."
   ]
  },
  {
   "cell_type": "markdown",
   "id": "7de3bc87",
   "metadata": {},
   "source": [
    "## 4.1 Metodogía Matemática"
   ]
  },
  {
   "cell_type": "markdown",
   "id": "36ec8797",
   "metadata": {},
   "source": [
    "## Definición Cadena"
   ]
  },
  {
   "cell_type": "markdown",
   "id": "d29275c8",
   "metadata": {},
   "source": [
    "\n",
    "\n",
    "El nivel de persistencia de cada jugador representa el número mínimo de pasos durante los cuales dicho jugador mantiene su estrategia actual (colaborar o no colaborar). Su dinámica se expresa mediante la siguiente regla probabilística:\n",
    "\n",
    "$$\n",
    "\\tau_i(t+1) =\n",
    "\\begin{cases}\n",
    "\\min(\\tau_i(t) + \\Delta\\tau,\\; \\tau_U), & \\text{con probabilidad } p^+ \\\\[6pt]\n",
    "\\max(\\tau_i(t) - \\Delta\\tau,\\; \\tau_D), & \\text{con probabilidad } p^-\n",
    "\\end{cases}\n",
    "$$\n",
    "\n",
    "donde las probabilidades $p^+$ y $p^-$ están dadas por:\n",
    "\n",
    "$$\n",
    "p^+ = \\frac{1}{1 + \\exp\\left(-\\frac{\\Delta E_i(t)}{K_1}\\right)}, \\quad p^- = 1 - p^+\n",
    "$$\n",
    "\n",
    "La fórmula anterior muestra explícitamente que la actualización del nivel de persistencia depende únicamente de la variable $\\Delta E_i(t)$, la cual se define como:\n",
    "\n",
    "$$\n",
    "\\Delta E_i(t) = \\varphi_i(t) - \\phi(t)\n",
    "$$\n",
    "\n",
    "siendo:\n",
    "\n",
    "- $\\varphi_i(t)$ la proporción de colaboradores en el entorno local del jugador $i$.\n",
    "- $\\phi(t)$ la proporción global de colaboradores en toda la red en el instante $t$.\n",
    "\n"
   ]
  },
  {
   "cell_type": "markdown",
   "id": "1c063b0e",
   "metadata": {},
   "source": [
    "**Caracterización de la cadena de Markov**\n",
    "\n",
    "En resumen, la probabilidad de que un jugador aumente o disminuya su nivel de persistencia $\\tau_i(t)$ en cada paso depende del valor de $\\Delta E_i(t)$, que a su vez varía en el tiempo en función del entorno del jugador y del estado global del sistema.\n",
    "\n",
    "Esto significa que las **probabilidades de transición cambian en cada instante $t$**, lo cual implica que la matriz de transición también evoluciona con el tiempo. Por tanto, se trata de una **cadena de Markov no homogénea**.\n",
    "\n",
    "El **espacio de estados** de esta cadena es **discreto y constante**, definido por todos los posibles niveles de persistencia que puede tomar un jugador entre un valor mínimo $\\tau_D$ y un máximo $\\tau_U$, en incrementos fijos de tamaño $\\Delta\\tau$:\n",
    "\n",
    "$$\n",
    "\\mathcal{S} = \\{\\tau_D,\\; \\tau_D + \\Delta\\tau,\\; \\tau_D + 2\\Delta\\tau,\\; \\dots,\\; \\tau_U\\}\n",
    "$$\n",
    "\n"
   ]
  },
  {
   "cell_type": "markdown",
   "id": "e176dabe",
   "metadata": {},
   "source": [
    "<div style=\"border-left: 4px solid #2ecc71; background-color: #eafaf1; padding: 10px; margin: 10px 0;\">\n",
    "  <strong> Tipo de cadena:</strong><br>\n",
    "  Cadena de Markov <strong>no homogénea</strong> con <strong>espacio de estados discreto</strong>.\n",
    "</div>"
   ]
  },
  {
   "cell_type": "markdown",
   "id": "859c7bfb",
   "metadata": {},
   "source": [
    "## Matriz Transición"
   ]
  },
  {
   "cell_type": "markdown",
   "id": "d463f825",
   "metadata": {},
   "source": [
    "Como se ha mencionado anteriormente, la cadena de Markov propuesta es **no homogénea**, ya que las probabilidades de transición varían en el tiempo según el entorno social del jugador.\n",
    "\n",
    "La probabilidad de que un jugador **aumente su nivel de persistencia** en un paso de tiempo está dada por la siguiente expresión logística:\n",
    "\n",
    "$$\n",
    "p^+ = P(\\tau_i \\to \\tau_i + \\Delta\\tau) = \\frac{1}{1 + \\exp\\left(-\\frac{\\Delta E_i(t)}{K_1}\\right)}\n",
    "$$\n",
    "\n",
    "La probabilidad de que **disminuya su persistencia** es simplemente la complementaria:\n",
    "\n",
    "$$\n",
    "p^- = P(\\tau_i \\to \\tau_i - \\Delta\\tau) = 1 - p^+\n",
    "$$\n",
    "\n",
    "\n",
    "\n",
    "**Casos extremos**\n",
    "\n",
    "- Si el jugador ya se encuentra en el **mínimo nivel de persistencia** $\\tau_D$, **solo puede aumentarla**:\n",
    "  $$\n",
    "  P(\\tau_i = \\tau_D \\to \\tau_D - \\Delta\\tau) = 0\n",
    "  $$\n",
    "\n",
    "- Si el jugador está en el **máximo nivel permitido** $\\tau_U$, **solo puede disminuirla**:\n",
    "  $$\n",
    "  P(\\tau_i = \\tau_U \\to \\tau_U + \\Delta\\tau) = 0\n",
    "  $$\n",
    "\n",
    "\n",
    "\n",
    "**Ejemplo de matriz de transición**\n",
    "\n",
    "Supongamos un espacio de estados:\n",
    "\n",
    "$$\n",
    "\\mathcal{S} = \\{0,\\; 1,\\; 2,\\; 3\\}\n",
    "$$\n",
    "\n",
    "La matriz de transición $P(t)$ en este caso, en función de $p^+$ y $p^-$, tendría la siguiente forma:\n",
    "\n",
    "$$\n",
    "P(t) =\n",
    "\\begin{bmatrix}\n",
    "0 & p^+ & 0 & 0 \\\\\n",
    "p^- & 0 & p^+ & 0 \\\\\n",
    "0 & p^- & 0 & p^+ \\\\\n",
    "0 & 0 & p^- & 0\n",
    "\\end{bmatrix}\n",
    "$$\n",
    "\n",
    "- En la primera fila (estado 0): solo se puede subir a 1  \n",
    "- En la última fila (estado 3): solo se puede bajar a 2  \n",
    "- En los estados intermedios (1 y 2): se puede subir o bajar según $p^+$ y $p^-$\n",
    "\n",
    "Esta matriz cambia en cada instante $t$, ya que $p^+$ depende de $\\Delta E_i(t)$, y por tanto de la configuración dinámica de la red."
   ]
  },
  {
   "cell_type": "markdown",
   "id": "cab9ef2f",
   "metadata": {},
   "source": [
    "## Análisis de los estados y Distribución Estacionaria## "
   ]
  },
  {
   "cell_type": "markdown",
   "id": "3eeb4c43",
   "metadata": {},
   "source": [
    "**Irreducibilidad**  \n",
    "La cadena es irreducible, ya que desde cualquier estado del espacio de persistencia $\\mathcal{S}$ es posible alcanzar cualquier otro mediante una secuencia finita de transiciones. Esto se debe a que, excepto en los extremos, los jugadores pueden aumentar o disminuir su nivel de persistencia con probabilidad positiva. Por tanto, todos los estados están conectados.\n",
    "\n",
    "**Aperiodicidad**  \n",
    "La cadena es también aperiódica, ya que no sigue ciclos con periodicidad fija. Las transiciones dependen del entorno local y global del jugador, el cual varía constantemente. Esta variabilidad rompe cualquier patrón cíclico y permite que los saltos entre estados se produzcan de forma flexible en el tiempo.\n"
   ]
  },
  {
   "cell_type": "markdown",
   "id": "589722dc",
   "metadata": {},
   "source": [
    "<div style=\"text-align: center;\">\n",
    "  <img src=\"img/diagrama_cuadrado_tau.png\" width=\"300\"><br>\n",
    "  <em>Diagrama de estados para la cadena de Markov con niveles de persistencia tau {0, 1, 2, 3\\}.</em>\n",
    "</div>"
   ]
  },
  {
   "cell_type": "markdown",
   "id": "6e71b998",
   "metadata": {},
   "source": [
    "**Distribución estacionaria en el caso homogéneo**  \n",
    "Si la cadena fuera homogénea, es decir, si la matriz de transición se mantuviera constante en el tiempo, podría definirse una distribución estacionaria $\\pi$ que representaría cómo se estabiliza el sistema en el largo plazo. Esta distribución cumpliría la ecuación:\n",
    "\n",
    "$$\n",
    "\\pi \\cdot P = \\pi, \\quad \\sum_{\\tau \\in \\mathcal{S}} \\pi(\\tau) = 1\n",
    "$$\n",
    "\n",
    "**Aplicación en el caso no homogéneo**  \n",
    "En el caso que nos ocupa, la cadena es no homogénea, ya que las probabilidades de transición cambian en cada instante debido a la evolución del entorno. En este contexto, no puede hablarse de una distribución estacionaria fija.\n",
    "\n",
    "No obstante, una posibilidad sería estudiar la **distribución límite** del sistema. Esta distribución, si existe, describe la proporción de jugadores en cada nivel de persistencia cuando el tiempo tiende a infinito. Sin embargo, para que esta distribución límite esté bien definida, la cadena debe cumplir una serie de condiciones técnicas que no se garantizan en nuestro modelo.\n",
    "\n",
    "Por ello, una forma práctica de abordar el análisis es observar cómo evoluciona la matriz de transición a lo largo del tiempo. Esta evolución refleja cómo cambia la dinámica del sistema y permite estudiar, de manera empírica, hacia dónde tiende el comportamiento colectivo de los jugadores.\n",
    "\n",
    "Esta evolución puede interpretarse como una aproximación al comportamiento asintótico del sistema. Además, puede analizarse por separado para cooperadores y desertores, con el objetivo de identificar posibles diferencias estructurales entre ambos grupos en cuanto a sus niveles de persistencia y su papel en la formación de clusters cooperativos."
   ]
  },
  {
   "cell_type": "markdown",
   "id": "f5235437",
   "metadata": {},
   "source": [
    "## Implemenracion Computacional"
   ]
  },
  {
   "cell_type": "markdown",
   "id": "3be234a1",
   "metadata": {},
   "source": [
    "Con el objetivo de comparar el impacto de una cadena de Markov sobre la dinámica de persistencia, implementamos un modelo de referencia donde **la persistencia de todos los jugadores es constante y no evoluciona en el tiempo**.\n",
    "En lugar de adaptar dinámicamente el valor de $\\tau_i(t)$ según el entorno (como en el modelo del paper), aquí asignamos un valor fijo $\\tau_{\\text{const}}$ a todos los jugadores. Esto significa que **los jugadores solo pueden cambiar su estrategia si han mantenido su estrategia actual durante al menos $\\tau_{\\text{const}}$ pasos consecutivos**."
   ]
  },
  {
   "cell_type": "code",
   "execution_count": 12,
   "id": "f3f98c48",
   "metadata": {},
   "outputs": [],
   "source": [
    "def update_strategy_base(i, j, s, ell, tau_const, L, b, K2):\n",
    "    if ell[i, j] < tau_const: #tau_const es un VALOR FIJO para todos\n",
    "        ell[i, j] += 1\n",
    "        return\n",
    "\n",
    "    neighbors = get_neighbors(i, j, L)\n",
    "    x, y = neighbors[np.random.randint(len(neighbors))]\n",
    "\n",
    "    si = s[i, j]\n",
    "    sj = s[x, y]\n",
    "\n",
    "    pi = total_payoff(i, j, s, L, b)\n",
    "    pj = total_payoff(x, y, s, L, b)\n",
    "\n",
    "    P = 1 / (1 + np.exp(-(pj - pi) / K2))\n",
    "    if np.random.rand() < P:\n",
    "        s[i, j] = sj\n",
    "        ell[i, j] = 0\n",
    "    else:\n",
    "        ell[i, j] += 1"
   ]
  },
  {
   "cell_type": "code",
   "execution_count": 19,
   "id": "a264d7c8",
   "metadata": {},
   "outputs": [],
   "source": [
    "def simulate_replicas_base(b, L, num_steps, num_avg_steps, tau_const, K2):\n",
    "    fC_b = []\n",
    "\n",
    "    for _ in range(20):  # número de réplicas\n",
    "        s = np.random.choice([0, 1], size=(L, L))\n",
    "        ell = np.zeros((L, L), dtype=int)\n",
    "\n",
    "        fC_trayectoria = []\n",
    "\n",
    "        for step in range(num_steps):\n",
    "            for i in range(L):\n",
    "                for j in range(L):\n",
    "                    update_strategy_base(i, j, s, ell, tau_const, L, b, K2) #funcion estegaia para el base\n",
    "\n",
    "            if step >= (num_steps - num_avg_steps):\n",
    "                fC_trayectoria.append(np.mean(s))\n",
    "\n",
    "        fC_b.append(np.mean(fC_trayectoria))\n",
    "\n",
    "    return np.mean(fC_b)"
   ]
  },
  {
   "cell_type": "markdown",
   "id": "fcc30d84",
   "metadata": {},
   "source": [
    "### Comparación de la cooperación media final $ f_C $ en función del parámetro $b$"
   ]
  },
  {
   "cell_type": "markdown",
   "id": "860f7655",
   "metadata": {},
   "source": [
    "Este gráfico representa cómo evoluciona la fracción de jugadores que cooperan $f_C(t)$ en el tiempo (número de pasos de Monte Carlo) para ambos modelos:\n",
    "\n",
    "- **Modelo base**: la persistencia de los jugadores es constante (no hay cadena de Markov).\n",
    "- **Modelo Markoviano**: la persistencia se adapta dinámicamente con una cadena de Markov."
   ]
  },
  {
   "cell_type": "code",
   "execution_count": 15,
   "id": "afeb8b09",
   "metadata": {},
   "outputs": [],
   "source": [
    "import os\n",
    "\n"
   ]
  },
  {
   "cell_type": "code",
   "execution_count": 16,
   "id": "e473a954",
   "metadata": {},
   "outputs": [],
   "source": [
    "output_dir = \"apartado_2_copy\"\n",
    "os.makedirs(output_dir, exist_ok=True)"
   ]
  },
  {
   "cell_type": "code",
   "execution_count": 20,
   "id": "c9802a2a",
   "metadata": {},
   "outputs": [
    {
     "name": "stdout",
     "output_type": "stream",
     "text": [
      "Simulando para b = 1.00 ...\n",
      "Simulando para b = 1.06 ...\n",
      "Simulando para b = 1.11 ...\n",
      "Simulando para b = 1.17 ...\n",
      "Simulando para b = 1.22 ...\n",
      "Simulando para b = 1.28 ...\n",
      "Simulando para b = 1.33 ...\n",
      "Simulando para b = 1.39 ...\n",
      "Simulando para b = 1.44 ...\n",
      "Simulando para b = 1.50 ...\n"
     ]
    }
   ],
   "source": [
    "L = 50  # Red más pequeña para mayor velocidad\n",
    "num_steps = 300  # Menos pasos de Monte Carlo\n",
    "num_avg_steps = 100  # Pasos usados para promediar f_C\n",
    "tau_const = 5\n",
    "tau_U = 20\n",
    "tau_D = 0\n",
    "delta_tau = 1\n",
    "K1 = 0.1\n",
    "K2 = 0.1\n",
    "b_values = np.linspace(1.0, 1.5, 10)\n",
    "\n",
    "# Carpeta donde se guardarán los resultados\n",
    "output_dir = \"output_apartado2\"\n",
    "os.makedirs(output_dir, exist_ok=True)\n",
    "\n",
    "# Inicializar listas para almacenar resultados\n",
    "fC_base_list = []\n",
    "fC_markov_list = []\n",
    "\n",
    "# Ejecutar simulaciones\n",
    "for idx, b in enumerate(b_values):\n",
    "    print(f\"Simulando para b = {b:.2f} ...\")\n",
    "\n",
    "    # Modelo base: persistencia constante\n",
    "    fc_base = simulate_replicas_base(b, L, num_steps, num_avg_steps, tau_const, K2)\n",
    "\n",
    "    # Modelo Markoviano: persistencia dinámica adaptativa\n",
    "    fc_markov = simulate_replicas_for_b(b, L, num_steps, num_avg_steps, tau_U, tau_D, delta_tau, K1, K2)\n",
    "\n",
    "    # Guardar resultados intermedios\n",
    "    fC_base_list.append(fc_base)\n",
    "    fC_markov_list.append(fc_markov)\n",
    "\n",
    "    # Guardado tras cada iteración\n",
    "    np.save(os.path.join(output_dir, \"b_values.npy\"), b_values[:idx+1])\n",
    "    np.save(os.path.join(output_dir, \"fC_base.npy\"), fC_base_list)\n",
    "    np.save(os.path.join(output_dir, \"fC_markov.npy\"), fC_markov_list)"
   ]
  },
  {
   "cell_type": "code",
   "execution_count": 21,
   "id": "6043f4c6",
   "metadata": {},
   "outputs": [
    {
     "data": {
      "image/png": "[encoded data removed]",
      "text/plain": [
       "<Figure size 1000x600 with 1 Axes>"
      ]
     },
     "metadata": {},
     "output_type": "display_data"
    }
   ],
   "source": [
    "plt.figure(figsize=(10, 6))\n",
    "plt.plot(b_values, fC_base_list, marker='o', label='Modelo base (τ constante)', color='blue')\n",
    "plt.plot(b_values, fC_markov_list, marker='s', label='Modelo Markoviano (τ adaptativa)', color='green')\n",
    "plt.xlabel('Valor del parámetro $b$')\n",
    "plt.ylabel('Fracción media de cooperadores $f_C$')\n",
    "plt.title('Comparación de cooperación promedio final en función de $b$')\n",
    "plt.legend()\n",
    "plt.grid(True)\n",
    "plt.tight_layout()\n",
    "plt.show()"
   ]
  },
  {
   "cell_type": "markdown",
   "id": "a6e61b69",
   "metadata": {},
   "source": [
    "### Distribución de $tau_i$ final para cooperadores y desertores"
   ]
  },
  {
   "cell_type": "markdown",
   "id": "c0d6e5d6",
   "metadata": {},
   "source": [
    "Este gráfico muestra cómo se distribuyen los valores del nivel de persistencia  $\\tau_i $ entre los jugadores al finalizar una simulación con $b = 1.1$, bajo la dinámica Markoviana.\n",
    "\n",
    "Se diferencian dos curvas:\n",
    "\n",
    "- En **azul**, la distribución de  $au_i$ entre los jugadores que cooperan $s_i = 1$.\n",
    "- En **rojo**, la distribución de $tau_i $ entre los desertores $ s_i = 0 $.\n"
   ]
  },
  {
   "cell_type": "code",
   "execution_count": null,
   "id": "82a924a9",
   "metadata": {},
   "outputs": [],
   "source": [
    "s = np.random.choice([0, 1], size=(L, L))\n",
    "tau = np.zeros((L, L), dtype=int)\n",
    "ell = np.zeros((L, L), dtype=int)\n",
    "\n",
    "# Simulación del modelo Markoviano\n",
    "for step in range(num_steps):\n",
    "    for i in range(L):\n",
    "        for j in range(L):\n",
    "            update_tau(i, j, s, tau, L, tau_U, tau_D, delta_tau, K1)\n",
    "    for i in range(L):\n",
    "        for j in range(L):\n",
    "            update_strategy(i, j, s, ell, tau, L, b, K2)\n",
    "\n",
    "# Separar τ según estrategia\n",
    "tau_coop = []\n",
    "tau_def = []\n",
    "\n",
    "for i in range(L):\n",
    "    for j in range(L):\n",
    "        if s[i, j] == 1:\n",
    "            tau_coop.append(tau[i, j])\n",
    "        else:\n",
    "            tau_def.append(tau[i, j])\n",
    "\n",
    "# Crear histograma\n",
    "plt.figure(figsize=(10, 6))\n",
    "bins = np.arange(tau_D, tau_U + 2) - 0.5  # bordes centrados\n",
    "\n",
    "plt.hist(tau_coop, bins=bins, alpha=0.6, color='blue', label='Cooperadores', density=True)\n",
    "plt.hist(tau_def, bins=bins, alpha=0.6, color='red', label='Desertores', density=True)\n",
    "\n",
    "plt.xlabel('Nivel de persistencia $\\\\tau_i$')\n",
    "plt.ylabel('Frecuencia relativa')\n",
    "plt.title('Distribución final de $\\\\tau_i$ para cooperadores y desertores (b = 1.1)')\n",
    "plt.legend()\n",
    "plt.grid(True)\n",
    "plt.tight_layout()\n"
   ]
  },
  {
   "cell_type": "markdown",
   "id": "d8e6a046",
   "metadata": {},
   "source": [
    "### Estabilidad de la cooperación frente a variaciones en $K_1$\n",
    "\n"
   ]
  },
  {
   "cell_type": "code",
   "execution_count": 22,
   "id": "0487f772",
   "metadata": {},
   "outputs": [
    {
     "name": "stdout",
     "output_type": "stream",
     "text": [
      "Simulando para K1 = 0.1 ...\n",
      "Simulando para K1 = 1 ...\n",
      "Simulando para K1 = 10 ...\n"
     ]
    }
   ],
   "source": [
    "import os\n",
    "import numpy as np\n",
    "\n",
    "# Parámetros del modelo\n",
    "L = 50\n",
    "num_steps = 300\n",
    "num_avg_steps = 100\n",
    "tau_const = 5\n",
    "tau_U = 20\n",
    "tau_D = 0\n",
    "delta_tau = 1\n",
    "K2 = 0.1\n",
    "b = 1.1  # valor fijo para este experimento\n",
    "\n",
    "K1_values = [0.1, 1, 10]\n",
    "\n",
    "# Crear carpeta exclusiva para este experimento\n",
    "output_dir = \"robustez_K1\"\n",
    "os.makedirs(output_dir, exist_ok=True)\n",
    "\n",
    "# Inicializar lista para almacenar los resultados\n",
    "fC_k1_list = []\n",
    "\n",
    "# Simular para cada valor de K1\n",
    "for idx, K1 in enumerate(K1_values):\n",
    "    print(f\"Simulando para K1 = {K1} ...\")\n",
    "    \n",
    "    # Ejecutar simulación con modelo Markoviano\n",
    "    fc_markov = simulate_replicas_for_b(b, L, num_steps, num_avg_steps, tau_U, tau_D, delta_tau, K1, K2)\n",
    "    \n",
    "    # Guardar resultados\n",
    "    fC_k1_list.append(fc_markov)\n",
    "    \n",
    "    # Guardar resultados tras cada iteración\n",
    "    np.save(os.path.join(output_dir, \"K1_values.npy\"), K1_values[:idx+1])\n",
    "    np.save(os.path.join(output_dir, \"fC_markov_K1.npy\"), fC_k1_list)"
   ]
  },
  {
   "cell_type": "code",
   "execution_count": null,
   "id": "3ec4d5e8",
   "metadata": {},
   "outputs": [
    {
     "ename": "FileNotFoundError",
     "evalue": "[Errno 2] No such file or directory: 'K1_values.npy'",
     "output_type": "error",
     "traceback": [
      "\u001b[0;31m---------------------------------------------------------------------------\u001b[0m",
      "\u001b[0;31mFileNotFoundError\u001b[0m                         Traceback (most recent call last)",
      "Cell \u001b[0;32mIn[27], line 1\u001b[0m\n\u001b[0;32m----> 1\u001b[0m K1_values \u001b[38;5;241m=\u001b[39m \u001b[43mnp\u001b[49m\u001b[38;5;241;43m.\u001b[39;49m\u001b[43mload\u001b[49m\u001b[43m(\u001b[49m\u001b[38;5;124;43m\"\u001b[39;49m\u001b[38;5;124;43mK1_values.npy\u001b[39;49m\u001b[38;5;124;43m\"\u001b[39;49m\u001b[43m)\u001b[49m  \u001b[38;5;66;03m# [0.1, 1, 10]\u001b[39;00m\n\u001b[1;32m      2\u001b[0m fc_matrix \u001b[38;5;241m=\u001b[39m np\u001b[38;5;241m.\u001b[39mload(\u001b[38;5;124m\"\u001b[39m\u001b[38;5;124mfc_markov_K1_replicas.npy\u001b[39m\u001b[38;5;124m\"\u001b[39m)  \u001b[38;5;66;03m# shape (3, num_replicas)\u001b[39;00m\n\u001b[1;32m      4\u001b[0m \u001b[38;5;66;03m# Graficar boxplot\u001b[39;00m\n",
      "File \u001b[0;32m~/Library/Python/3.12/lib/python/site-packages/numpy/lib/_npyio_impl.py:459\u001b[0m, in \u001b[0;36mload\u001b[0;34m(file, mmap_mode, allow_pickle, fix_imports, encoding, max_header_size)\u001b[0m\n\u001b[1;32m    457\u001b[0m     own_fid \u001b[38;5;241m=\u001b[39m \u001b[38;5;28;01mFalse\u001b[39;00m\n\u001b[1;32m    458\u001b[0m \u001b[38;5;28;01melse\u001b[39;00m:\n\u001b[0;32m--> 459\u001b[0m     fid \u001b[38;5;241m=\u001b[39m stack\u001b[38;5;241m.\u001b[39menter_context(\u001b[38;5;28;43mopen\u001b[39;49m\u001b[43m(\u001b[49m\u001b[43mos\u001b[49m\u001b[38;5;241;43m.\u001b[39;49m\u001b[43mfspath\u001b[49m\u001b[43m(\u001b[49m\u001b[43mfile\u001b[49m\u001b[43m)\u001b[49m\u001b[43m,\u001b[49m\u001b[43m \u001b[49m\u001b[38;5;124;43m\"\u001b[39;49m\u001b[38;5;124;43mrb\u001b[39;49m\u001b[38;5;124;43m\"\u001b[39;49m\u001b[43m)\u001b[49m)\n\u001b[1;32m    460\u001b[0m     own_fid \u001b[38;5;241m=\u001b[39m \u001b[38;5;28;01mTrue\u001b[39;00m\n\u001b[1;32m    462\u001b[0m \u001b[38;5;66;03m# Code to distinguish from NumPy binary files and pickles.\u001b[39;00m\n",
      "\u001b[0;31mFileNotFoundError\u001b[0m: [Errno 2] No such file or directory: 'K1_values.npy'"
     ]
    }
   ],
   "source": []
  }
 ],
 "metadata": {
  "kernelspec": {
   "display_name": "Python 3",
   "language": "python",
   "name": "python3"
  },
  "language_info": {
   "codemirror_mode": {
    "name": "ipython",
    "version": 3
   },
   "file_extension": ".py",
   "mimetype": "text/x-python",
   "name": "python",
   "nbconvert_exporter": "python",
   "pygments_lexer": "ipython3",
   "version": "3.12.6"
  }
 },
 "nbformat": 4,
 "nbformat_minor": 5
}
